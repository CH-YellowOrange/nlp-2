{
 "cells": [
  {
   "cell_type": "markdown",
   "metadata": {},
   "source": [
    "Cheng Huang 49327232"
   ]
  },
  {
   "cell_type": "code",
   "execution_count": 2,
   "metadata": {},
   "outputs": [],
   "source": [
    "corpus = {\n",
    "    'D-1' : ['B', 'A', 'C', 'C', 'A'],\n",
    "    'D-2' : ['C', 'A', 'A', 'B', 'B', 'A'],\n",
    "    'D-3' : ['A', 'C', 'B', 'A', 'B', 'A', 'B']\n",
    "}"
   ]
  },
  {
   "cell_type": "code",
   "execution_count": 3,
   "metadata": {},
   "outputs": [],
   "source": [
    "di = {\n",
    "    'D-1':[3/5, 2/5],\n",
    "    'D-2':[3/6, 3/6],\n",
    "    'D-3':[4/7, 3/7]\n",
    "}\n",
    "\n",
    "tw = {\n",
    "    't1':{'A':3/10, 'B':4/10, 'C':3/10},\n",
    "    't2':{'A':5/8, 'B':2/8, 'C':1/8}\n",
    "}\n",
    "\n",
    "#answer for question 1a"
   ]
  },
  {
   "cell_type": "code",
   "execution_count": null,
   "metadata": {},
   "outputs": [],
   "source": []
  },
  {
   "cell_type": "code",
   "execution_count": 10,
   "metadata": {},
   "outputs": [
    {
     "data": {
      "text/plain": [
       "{'D-1': {'B_1': [0.7058823529411765, 0.2941176470588236],\n",
       "  'A_2': [0.41860465116279066, 0.5813953488372093],\n",
       "  'C_3': [0.782608695652174, 0.2173913043478261],\n",
       "  'C_4': [0.782608695652174, 0.2173913043478261],\n",
       "  'A_5': [0.41860465116279066, 0.5813953488372093]},\n",
       " 'D-2': {'C_1': [0.7058823529411765, 0.29411764705882354],\n",
       "  'A_2': [0.3243243243243243, 0.6756756756756757],\n",
       "  'A_3': [0.3243243243243243, 0.6756756756756757],\n",
       "  'B_4': [0.6153846153846154, 0.3846153846153846],\n",
       "  'B_5': [0.6153846153846154, 0.3846153846153846],\n",
       "  'A_6': [0.3243243243243243, 0.6756756756756757]},\n",
       " 'D-3': {'A_1': [0.39024390243902435, 0.6097560975609756],\n",
       "  'C_2': [0.7619047619047619, 0.2380952380952381],\n",
       "  'B_3': [0.6808510638297872, 0.3191489361702128],\n",
       "  'A_4': [0.39024390243902435, 0.6097560975609756],\n",
       "  'B_5': [0.6808510638297872, 0.3191489361702128],\n",
       "  'A_6': [0.39024390243902435, 0.6097560975609756],\n",
       "  'B_7': [0.6808510638297872, 0.3191489361702128]}}"
      ]
     },
     "execution_count": 10,
     "metadata": {},
     "output_type": "execute_result"
    }
   ],
   "source": [
    "dist_tp_doc = {}\n",
    "for doc, words in corpus.items():\n",
    "    dist_tp_doc[doc] = {}\n",
    "    for i, word in enumerate(words):\n",
    "        t1p = di[doc][0] * tw['t1'][word]\n",
    "        t2p = di[doc][1] * tw['t2'][word]\n",
    "        dist_tp = [t1p / (t1p + t2p), t2p / (t1p + t2p)]\n",
    "        dist_tp_doc[doc][word + \"_\" +str(i+1)] = dist_tp\n",
    "dist_tp_doc\n",
    "\n"
   ]
  },
  {
   "cell_type": "code",
   "execution_count": 11,
   "metadata": {},
   "outputs": [
    {
     "data": {
      "text/plain": [
       "{'D-1': [0.6216618093142211, 0.3783381906857789],\n",
       " 'D-2': [0.4849374261138966, 0.5150625738861033],\n",
       " 'D-3': [0.5678842372444567, 0.4321157627555433]}"
      ]
     },
     "execution_count": 11,
     "metadata": {},
     "output_type": "execute_result"
    }
   ],
   "source": [
    "document_topic_update = {}\n",
    "for doc, words in dist_tp_doc.items():\n",
    "    dist_tp = [0, 0]\n",
    "    for word in words:\n",
    "        dist_tp[0] += dist_tp_doc[doc][word][0]\n",
    "        dist_tp[1] += dist_tp_doc[doc][word][1]\n",
    "    sum_dist_tp = dist_tp[0] + dist_tp[1]\n",
    "    document_topic_update[doc] = [dist_tp[0]/sum_dist_tp, dist_tp[1]/sum_dist_tp]\n",
    "document_topic_update\n"
   ]
  },
  {
   "cell_type": "code",
   "execution_count": 12,
   "metadata": {},
   "outputs": [
    {
     "data": {
      "text/plain": [
       "{'t1': {'A': 0.2982965289104898,\n",
       "  'B': 0.39819430523272237,\n",
       "  'C': 0.30350916585678794},\n",
       " 't2': {'A': 0.6268469195730679,\n",
       "  'B': 0.25238245715783303,\n",
       "  'C': 0.12077062326909904}}"
      ]
     },
     "execution_count": 12,
     "metadata": {},
     "output_type": "execute_result"
    }
   ],
   "source": [
    "topic_word_update = {'t1': {'A':0, 'B':0, 'C':0}, 't2': {'A':0, 'B':0, 'C':0}}\n",
    "topic_sum = [0, 0]\n",
    "for doc, words in dist_tp_doc.items():\n",
    "    for word in words:\n",
    "        topic_sum[0] += dist_tp_doc[doc][word][0]\n",
    "        topic_sum[1] += dist_tp_doc[doc][word][1]\n",
    "        topic_word_update['t1'][word[0]] = (topic_word_update['t1'].get(word[0]) +\n",
    "        dist_tp_doc[doc][word][0])\n",
    "        topic_word_update['t2'][word[0]] = (topic_word_update['t2'].get(word[0]) +\n",
    "        dist_tp_doc[doc][word][1])\n",
    "\n",
    "for topic in topic_word_update:\n",
    "    for word in topic_word_update[topic]:\n",
    "        topic_word_update[topic][word] = (topic_word_update[topic][word] /\n",
    "        topic_sum[int(topic[-1])-1])\n",
    "topic_word_update"
   ]
  },
  {
   "cell_type": "code",
   "execution_count": 14,
   "metadata": {},
   "outputs": [
    {
     "data": {
      "text/plain": [
       "5.329243853560946e-09"
      ]
     },
     "execution_count": 14,
     "metadata": {},
     "output_type": "execute_result"
    }
   ],
   "source": [
    "prob_corpus = 1\n",
    "for doc, words in corpus.items():\n",
    "    for word in words:\n",
    "        prob_corpus *= (di[doc][0] * tw['t1'][word] +\n",
    "        di[doc][1] * tw['t2'][word])\n",
    "prob_corpus\n"
   ]
  },
  {
   "cell_type": "code",
   "execution_count": 15,
   "metadata": {},
   "outputs": [
    {
     "data": {
      "text/plain": [
       "5.424022408074716e-09"
      ]
     },
     "execution_count": 15,
     "metadata": {},
     "output_type": "execute_result"
    }
   ],
   "source": [
    "prob_corpus = 1\n",
    "for doc, words in corpus.items():\n",
    "    for word in words:\n",
    "        prob_corpus *= (document_topic_update[doc][0] * topic_word_update['t1'][word] +\n",
    "        document_topic_update[doc][1] * topic_word_update['t2'][word])\n",
    "prob_corpus"
   ]
  }
 ],
 "metadata": {
  "kernelspec": {
   "display_name": "mlp",
   "language": "python",
   "name": "python3"
  },
  "language_info": {
   "codemirror_mode": {
    "name": "ipython",
    "version": 3
   },
   "file_extension": ".py",
   "mimetype": "text/x-python",
   "name": "python",
   "nbconvert_exporter": "python",
   "pygments_lexer": "ipython3",
   "version": "3.8.0"
  }
 },
 "nbformat": 4,
 "nbformat_minor": 2
}
